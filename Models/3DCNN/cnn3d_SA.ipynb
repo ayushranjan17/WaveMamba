{
 "cells": [
  {
   "cell_type": "code",
   "execution_count": 1,
   "id": "761339fd-d5b4-4e90-9a9c-9a877f91334b",
   "metadata": {},
   "outputs": [],
   "source": [
    "import argparse\n",
    "import numpy as np\n",
    "import torch\n",
    "import torch.nn as nn\n",
    "import torch.utils.data\n",
    "from torchsummaryX import summary\n",
    "\n",
    "from utils.dataset import load_mat_hsi, sample_gt, HSIDataset\n",
    "from utils.utils import split_info_print, metrics, show_results\n",
    "from utils.scheduler import load_scheduler\n",
    "from models.get_model import get_model\n",
    "from train import train, test"
   ]
  },
  {
   "cell_type": "code",
   "execution_count": 2,
   "id": "30148a97-d020-4636-aa1f-8c9992992e38",
   "metadata": {},
   "outputs": [],
   "source": [
    "import torch.optim as optim\n",
    "from torchsummary import summary\n",
    "from fvcore.nn import FlopCountAnalysis, parameter_count\n",
    "import time"
   ]
  },
  {
   "cell_type": "code",
   "execution_count": 3,
   "id": "0d0c0d95-ed7a-490b-b122-9d8f70ba716b",
   "metadata": {
    "scrolled": true
   },
   "outputs": [
    {
     "name": "stdout",
     "output_type": "stream",
     "text": [
      "experiments will run on GPU device 0\n",
      "model = cnn3d\n",
      "dataset = sa\n",
      "dataset folder = ./datasets\n",
      "patch size = 12\n",
      "batch size = 32\n",
      "total epoch = 50\n",
      "0.015 for training, 0.015 for validation and 0.97 for testing\n",
      "running an experiment with the cnn3d model\n",
      "run 1 / 1\n",
      "CNN3D(\n",
      "  (conv1): Conv3d(1, 20, kernel_size=(3, 3, 3), stride=(1, 1, 1))\n",
      "  (pool1): Conv3d(20, 20, kernel_size=(3, 1, 1), stride=(2, 1, 1), padding=(1, 0, 0))\n",
      "  (conv2): Conv3d(20, 35, kernel_size=(3, 3, 3), stride=(1, 1, 1), padding=(1, 0, 0))\n",
      "  (pool2): Conv3d(35, 35, kernel_size=(3, 1, 1), stride=(2, 1, 1), padding=(1, 0, 0))\n",
      "  (conv3): Conv3d(35, 35, kernel_size=(3, 1, 1), stride=(1, 1, 1), padding=(1, 0, 0))\n",
      "  (conv4): Conv3d(35, 35, kernel_size=(2, 1, 1), stride=(2, 1, 1), padding=(1, 0, 0))\n",
      "  (dropout): Dropout(p=0.5, inplace=False)\n",
      "  (fc): Linear(in_features=58240, out_features=16, bias=True)\n",
      ")\n",
      "class train val test\n",
      "Brocoli_green_weeds_1 30 30 1949\n",
      "Brocoli_green_weeds_2 56 56 3614\n",
      "Fallow 30 29 1917\n",
      "Fallow_rough_plow 21 21 1352\n",
      "Fallow_smooth 40 40 2598\n",
      "Stubble 59 60 3840\n",
      "Celery 53 54 3472\n",
      "Grapes_untrained 169 169 10933\n",
      "Soil_vinyard_develop 93 93 6017\n",
      "Corn_senesced_green_weeds 49 49 3180\n",
      "Lettuce_romaine_4wk 16 16 1036\n",
      "Lettuce_romaine_5wk 29 29 1869\n",
      "Lettuce_romaine_6wk 14 14 888\n",
      "Lettuce_romaine_7wk 16 16 1038\n",
      "Vinyard_untrained 109 109 7050\n",
      "Vinyard_vertical_trellis 27 27 1753\n",
      "network information:\n",
      "----------------------------------------------------------------\n",
      "        Layer (type)               Output Shape         Param #\n",
      "================================================================\n",
      "            Conv3d-1      [-1, 20, 202, 10, 10]             560\n",
      "            Conv3d-2      [-1, 20, 101, 10, 10]           1,220\n",
      "            Conv3d-3        [-1, 35, 101, 8, 8]          18,935\n",
      "            Conv3d-4         [-1, 35, 51, 8, 8]           3,710\n",
      "            Conv3d-5         [-1, 35, 51, 8, 8]           3,710\n",
      "            Conv3d-6         [-1, 35, 26, 8, 8]           2,485\n",
      "           Dropout-7                [-1, 58240]               0\n",
      "            Linear-8                   [-1, 16]         931,856\n",
      "================================================================\n",
      "Total params: 962,476\n",
      "Trainable params: 962,476\n",
      "Non-trainable params: 0\n",
      "----------------------------------------------------------------\n",
      "Input size (MB): 0.11\n",
      "Forward/backward pass size (MB): 8.98\n",
      "Params size (MB): 3.67\n",
      "Estimated Total Size (MB): 12.77\n",
      "----------------------------------------------------------------\n"
     ]
    },
    {
     "name": "stderr",
     "output_type": "stream",
     "text": [
      "training the network:   0%|                              | 0/50 [00:01<?, ?it/s]"
     ]
    },
    {
     "name": "stdout",
     "output_type": "stream",
     "text": [
      "train at epoch 1/50, loss=2.256667\n"
     ]
    },
    {
     "name": "stderr",
     "output_type": "stream",
     "text": [
      "training the network:   2%|▍                     | 1/50 [00:02<02:00,  2.45s/it]"
     ]
    },
    {
     "name": "stdout",
     "output_type": "stream",
     "text": [
      "epoch = 1: best validation OA = 0.3719\n"
     ]
    },
    {
     "name": "stderr",
     "output_type": "stream",
     "text": [
      "training the network:   4%|▉                     | 2/50 [00:04<01:52,  2.35s/it]"
     ]
    },
    {
     "name": "stdout",
     "output_type": "stream",
     "text": [
      "epoch = 2: best validation OA = 0.6182\n"
     ]
    },
    {
     "name": "stderr",
     "output_type": "stream",
     "text": [
      "training the network:   6%|█▎                    | 3/50 [00:06<01:48,  2.31s/it]"
     ]
    },
    {
     "name": "stdout",
     "output_type": "stream",
     "text": [
      "epoch = 3: best validation OA = 0.6429\n"
     ]
    },
    {
     "name": "stderr",
     "output_type": "stream",
     "text": [
      "training the network:   8%|█▊                    | 4/50 [00:09<01:45,  2.29s/it]"
     ]
    },
    {
     "name": "stdout",
     "output_type": "stream",
     "text": [
      "epoch = 4: best validation OA = 0.6958\n"
     ]
    },
    {
     "name": "stderr",
     "output_type": "stream",
     "text": [
      "training the network:  10%|██▏                   | 5/50 [00:11<01:42,  2.28s/it]"
     ]
    },
    {
     "name": "stdout",
     "output_type": "stream",
     "text": [
      "epoch = 5: best validation OA = 0.7512\n"
     ]
    },
    {
     "name": "stderr",
     "output_type": "stream",
     "text": [
      "training the network:  12%|██▋                   | 6/50 [00:13<01:39,  2.27s/it]"
     ]
    },
    {
     "name": "stdout",
     "output_type": "stream",
     "text": [
      "epoch = 6: best validation OA = 0.8300\n"
     ]
    },
    {
     "name": "stderr",
     "output_type": "stream",
     "text": [
      "training the network:  18%|███▉                  | 9/50 [00:20<01:37,  2.37s/it]"
     ]
    },
    {
     "name": "stdout",
     "output_type": "stream",
     "text": [
      "epoch = 9: best validation OA = 0.8559\n"
     ]
    },
    {
     "name": "stderr",
     "output_type": "stream",
     "text": [
      "training the network:  18%|███▉                  | 9/50 [00:22<01:37,  2.37s/it]"
     ]
    },
    {
     "name": "stdout",
     "output_type": "stream",
     "text": [
      "train at epoch 10/50, loss=0.443547\n"
     ]
    },
    {
     "name": "stderr",
     "output_type": "stream",
     "text": [
      "training the network:  20%|████▏                | 10/50 [00:23<01:38,  2.47s/it]"
     ]
    },
    {
     "name": "stdout",
     "output_type": "stream",
     "text": [
      "epoch = 10: best validation OA = 0.8793\n"
     ]
    },
    {
     "name": "stderr",
     "output_type": "stream",
     "text": [
      "training the network:  28%|█████▉               | 14/50 [00:34<01:37,  2.70s/it]"
     ]
    },
    {
     "name": "stdout",
     "output_type": "stream",
     "text": [
      "epoch = 14: best validation OA = 0.9027\n"
     ]
    },
    {
     "name": "stderr",
     "output_type": "stream",
     "text": [
      "training the network:  34%|███████▏             | 17/50 [00:43<01:30,  2.75s/it]"
     ]
    },
    {
     "name": "stdout",
     "output_type": "stream",
     "text": [
      "epoch = 17: best validation OA = 0.9138\n"
     ]
    },
    {
     "name": "stderr",
     "output_type": "stream",
     "text": [
      "training the network:  38%|███████▉             | 19/50 [00:50<01:25,  2.76s/it]"
     ]
    },
    {
     "name": "stdout",
     "output_type": "stream",
     "text": [
      "train at epoch 20/50, loss=0.349699\n"
     ]
    },
    {
     "name": "stderr",
     "output_type": "stream",
     "text": [
      "training the network:  40%|████████▍            | 20/50 [00:51<01:23,  2.77s/it]"
     ]
    },
    {
     "name": "stdout",
     "output_type": "stream",
     "text": [
      "epoch = 20: best validation OA = 0.9236\n"
     ]
    },
    {
     "name": "stderr",
     "output_type": "stream",
     "text": [
      "training the network:  42%|████████▊            | 21/50 [00:54<01:20,  2.77s/it]"
     ]
    },
    {
     "name": "stdout",
     "output_type": "stream",
     "text": [
      "epoch = 21: best validation OA = 0.9261\n"
     ]
    },
    {
     "name": "stderr",
     "output_type": "stream",
     "text": [
      "training the network:  46%|█████████▋           | 23/50 [00:59<01:14,  2.78s/it]"
     ]
    },
    {
     "name": "stdout",
     "output_type": "stream",
     "text": [
      "epoch = 23: best validation OA = 0.9397\n"
     ]
    },
    {
     "name": "stderr",
     "output_type": "stream",
     "text": [
      "training the network:  58%|████████████▏        | 29/50 [01:18<00:58,  2.77s/it]"
     ]
    },
    {
     "name": "stdout",
     "output_type": "stream",
     "text": [
      "train at epoch 30/50, loss=0.235512\n"
     ]
    },
    {
     "name": "stderr",
     "output_type": "stream",
     "text": [
      "training the network:  62%|█████████████        | 31/50 [01:21<00:52,  2.78s/it]"
     ]
    },
    {
     "name": "stdout",
     "output_type": "stream",
     "text": [
      "epoch = 31: best validation OA = 0.9446\n"
     ]
    },
    {
     "name": "stderr",
     "output_type": "stream",
     "text": [
      "training the network:  78%|████████████████▍    | 39/50 [01:45<00:30,  2.75s/it]"
     ]
    },
    {
     "name": "stdout",
     "output_type": "stream",
     "text": [
      "train at epoch 40/50, loss=0.221279\n"
     ]
    },
    {
     "name": "stderr",
     "output_type": "stream",
     "text": [
      "training the network:  80%|████████████████▊    | 40/50 [01:46<00:27,  2.75s/it]"
     ]
    },
    {
     "name": "stdout",
     "output_type": "stream",
     "text": [
      "epoch = 40: best validation OA = 0.9495\n"
     ]
    },
    {
     "name": "stderr",
     "output_type": "stream",
     "text": [
      "training the network:  98%|████████████████████▌| 49/50 [02:11<00:02,  2.75s/it]"
     ]
    },
    {
     "name": "stdout",
     "output_type": "stream",
     "text": [
      "epoch = 49: best validation OA = 0.9532\n"
     ]
    },
    {
     "name": "stderr",
     "output_type": "stream",
     "text": [
      "training the network:  98%|████████████████████▌| 49/50 [02:13<00:02,  2.75s/it]"
     ]
    },
    {
     "name": "stdout",
     "output_type": "stream",
     "text": [
      "train at epoch 50/50, loss=0.169025\n"
     ]
    },
    {
     "name": "stderr",
     "output_type": "stream",
     "text": [
      "training the network: 100%|█████████████████████| 50/50 [02:14<00:00,  2.68s/it]\n",
      "inference on the HSI: 3495it [01:10, 49.72it/s]                                 \n"
     ]
    },
    {
     "name": "stdout",
     "output_type": "stream",
     "text": [
      "Confusion matrix :\n",
      "[[1943    6    0    0    0    0    0    0    0    0    0    0    0    0\n",
      "     0    0]\n",
      " [   0 3614    0    0    0    0    0    0    0    0    0    0    0    0\n",
      "     0    0]\n",
      " [   0    0 1764    0   19    0    0    0   26    0   93   15    0    0\n",
      "     0    0]\n",
      " [   0    0    0 1341   11    0    0    0    0    0    0    0    0    0\n",
      "     0    0]\n",
      " [   0    0    5   15 2568    0    0    0    5    1    4    0    0    0\n",
      "     0    0]\n",
      " [   0    0    0    0    0 3840    0    0    0    0    0    0    0    0\n",
      "     0    0]\n",
      " [   0    0    0    0    0    1 3471    0    0    0    0    0    0    0\n",
      "     0    0]\n",
      " [   0    0    0    0    0    1    0 9488    0   24    6    0    0    0\n",
      "  1414    0]\n",
      " [   0    0    0    0    0    0    0    0 5986    0   31    0    0    0\n",
      "     0    0]\n",
      " [   0    0    2    0    0    0    0   39   13 3012   86   21    0    7\n",
      "     0    0]\n",
      " [   0    0    0    0    0    0    0    0    0    0 1029    7    0    0\n",
      "     0    0]\n",
      " [   0    0    0    0    0    0    0    0    0    0    0 1869    0    0\n",
      "     0    0]\n",
      " [   0    0    0    0    0    0    0    0    0    0    0    0  888    0\n",
      "     0    0]\n",
      " [   0    0    0    0    0    0    0    0    0   14    0    0    0 1024\n",
      "     0    0]\n",
      " [   0    0    0    0   26    0    0  691    0    0    0    0    4    0\n",
      "  6324    5]\n",
      " [   0    0    0    0    0    0   43    0    0    0    0    0    0    0\n",
      "     0 1710]]---\n",
      "Accuracy : 94.98%\n",
      "---\n",
      "class acc :\n",
      "\tBrocoli_green_weeds_1: 99.69\n",
      "\tBrocoli_green_weeds_2: 100.00\n",
      "\tFallow: 92.02\n",
      "\tFallow_rough_plow: 99.19\n",
      "\tFallow_smooth: 98.85\n",
      "\tStubble: 100.00\n",
      "\tCelery: 99.97\n",
      "\tGrapes_untrained: 86.78\n",
      "\tSoil_vinyard_develop: 99.48\n",
      "\tCorn_senesced_green_weeds: 94.72\n",
      "\tLettuce_romaine_4wk: 99.32\n",
      "\tLettuce_romaine_5wk: 100.00\n",
      "\tLettuce_romaine_6wk: 100.00\n",
      "\tLettuce_romaine_7wk: 98.65\n",
      "\tVinyard_untrained: 89.70\n",
      "\tVinyard_vertical_trellis: 97.55\n",
      "---\n",
      "AA: 97.25%\n",
      "Kappa: 94.42\n",
      "\n",
      "FLOPs: 174196640\n",
      "Parameters: 962476\n",
      "Training time: 134.07 seconds\n",
      "Testing time: 70.36seconds\n"
     ]
    }
   ],
   "source": [
    "if __name__ == \"__main__\":\n",
    "    parser = argparse.ArgumentParser(description=\"run patch-based HSI classification\")\n",
    "    parser.add_argument(\"--model\", type=str, default='cnn3d')\n",
    "    parser.add_argument(\"--dataset_name\", type=str, default=\"sa\")\n",
    "    parser.add_argument(\"--dataset_dir\", type=str, default=\"./datasets\")\n",
    "    parser.add_argument(\"--device\", type=str, default=\"0\")\n",
    "    parser.add_argument(\"--patch_size\", type=int, default=12)\n",
    "    parser.add_argument(\"--num_run\", type=int, default=1)\n",
    "    parser.add_argument(\"--epoch\", type=int, default=50)\n",
    "    parser.add_argument(\"--bs\", type=int, default=32)\n",
    "    parser.add_argument(\"--ratio\", type=float, default=0.03)\n",
    "\n",
    "    args, unknown = parser.parse_known_args()\n",
    "    device = torch.device(\"cuda:{}\".format(args.device) if torch.cuda.is_available() else \"cpu\")\n",
    "\n",
    "    # Print parameters\n",
    "    print(f\"experiments will run on GPU device {args.device}\")\n",
    "    print(f\"model = {args.model}\")\n",
    "    print(f\"dataset = {args.dataset_name}\")\n",
    "    print(f\"dataset folder = {args.dataset_dir}\")\n",
    "    print(f\"patch size = {args.patch_size}\")\n",
    "    print(f\"batch size = {args.bs}\")\n",
    "    print(f\"total epoch = {args.epoch}\")\n",
    "    print(f\"{args.ratio / 2} for training, {args.ratio / 2} for validation and {1 - args.ratio} for testing\")\n",
    "\n",
    "    # Load data\n",
    "    image, gt, labels = load_mat_hsi(args.dataset_name, args.dataset_dir)\n",
    "    num_classes = len(labels)\n",
    "    num_bands = image.shape[-1]\n",
    "\n",
    "    # Random seeds\n",
    "    seeds = [202201, 202202, 202203, 202204, 202205]\n",
    "\n",
    "    # Empty list to store results\n",
    "    results = []\n",
    "\n",
    "    for run in range(args.num_run):\n",
    "        np.random.seed(seeds[run])\n",
    "        print(f\"running an experiment with the {args.model} model\")\n",
    "        print(f\"run {run + 1} / {args.num_run}\")\n",
    "\n",
    "        trainval_gt, test_gt = sample_gt(gt, args.ratio, seeds[run])\n",
    "        train_gt, val_gt = sample_gt(trainval_gt, 0.5, seeds[run])\n",
    "\n",
    "        del trainval_gt\n",
    "\n",
    "        train_set = HSIDataset(image, train_gt, patch_size=args.patch_size, data_aug=True)\n",
    "        val_set = HSIDataset(image, val_gt, patch_size=args.patch_size, data_aug=False)\n",
    "        train_loader = torch.utils.data.DataLoader(train_set, batch_size=args.bs, drop_last=False, shuffle=True)\n",
    "        val_loader = torch.utils.data.DataLoader(val_set, batch_size=args.bs, drop_last=False, shuffle=False)\n",
    "\n",
    "        model = get_model(args.model, args.dataset_name, args.patch_size).to(device)\n",
    "        print(model)\n",
    "\n",
    "        if run == 0:\n",
    "            split_info_print(train_gt, val_gt, test_gt, labels)\n",
    "            print(\"network information:\")\n",
    "            # Summary of the model\n",
    "            summary(model, input_size=(1, num_bands, args.patch_size, args.patch_size))\n",
    "\n",
    "        optimizer, scheduler = load_scheduler(args.model, model)\n",
    "        criterion = nn.CrossEntropyLoss()\n",
    "\n",
    "        # Where to save checkpoint model\n",
    "        model_dir = f\"./checkpoints/{args.model}/{args.dataset_name}/{run}\"\n",
    "\n",
    "        # Training\n",
    "        start_time = time.time()\n",
    "        try:\n",
    "            train(model, optimizer, criterion, train_loader, val_loader, args.epoch, model_dir, device, scheduler)\n",
    "        except KeyboardInterrupt:\n",
    "            print('\"ctrl+c\" is pressed, the training is over')\n",
    "        training_time = time.time() - start_time\n",
    "\n",
    "        # Testing\n",
    "        start_time = time.time()\n",
    "        probabilities = test(model, model_dir, image, args.patch_size, num_classes, device)\n",
    "        testing_time = time.time() - start_time\n",
    "\n",
    "        prediction = np.argmax(probabilities, axis=-1)\n",
    "        run_results = metrics(prediction, test_gt, n_classes=num_classes)\n",
    "        results.append(run_results)\n",
    "        show_results(run_results, label_values=labels)\n",
    "\n",
    "        del train_set, train_loader, val_set, val_loader\n",
    "\n",
    "        # Calculate FLOPs and number of parameters\n",
    "        dummy_input = torch.randn(1, 1, num_bands, args.patch_size, args.patch_size).to(device)\n",
    "        flops = FlopCountAnalysis(model, dummy_input)\n",
    "        params = parameter_count(model)\n",
    "\n",
    "        print(f\"FLOPs: {flops.total()}\")\n",
    "        print(f\"Parameters: {params['']}\")\n",
    "        print(f\"Training time: {training_time:.2f} seconds\")\n",
    "        print(f\"Testing time: {testing_time:.2f}seconds\")\n",
    "\n",
    "        # Store additional metrics in results\n",
    "        run_results[\"FLOPs\"] = flops.total()\n",
    "        run_results[\"Parameters\"] = params['']\n",
    "        run_results[\"Training time\"] = training_time\n",
    "        run_results[\"Testing time\"] = testing_time\n",
    "\n",
    "    if args.num_run > 1:\n",
    "        show_results(results, label_values=labels, aggregated=True)"
   ]
  },
  {
   "cell_type": "code",
   "execution_count": null,
   "id": "8b762748-a37b-4870-8778-88d9b5b66d6e",
   "metadata": {},
   "outputs": [],
   "source": [
    "    "
   ]
  },
  {
   "cell_type": "code",
   "execution_count": null,
   "id": "eb6c2bbd-34f2-44e3-a94b-19cf1187c81d",
   "metadata": {},
   "outputs": [],
   "source": []
  }
 ],
 "metadata": {
  "kernelspec": {
   "display_name": "Python 3 (ipykernel)",
   "language": "python",
   "name": "python3"
  },
  "language_info": {
   "codemirror_mode": {
    "name": "ipython",
    "version": 3
   },
   "file_extension": ".py",
   "mimetype": "text/x-python",
   "name": "python",
   "nbconvert_exporter": "python",
   "pygments_lexer": "ipython3",
   "version": "3.11.5"
  }
 },
 "nbformat": 4,
 "nbformat_minor": 5
}
