{
 "cells": [
  {
   "cell_type": "code",
   "execution_count": 1,
   "id": "761339fd-d5b4-4e90-9a9c-9a877f91334b",
   "metadata": {},
   "outputs": [],
   "source": [
    "import argparse\n",
    "import numpy as np\n",
    "import torch\n",
    "import torch.nn as nn\n",
    "import torch.utils.data\n",
    "from torchsummaryX import summary\n",
    "\n",
    "from utils.dataset import load_mat_hsi, sample_gt, HSIDataset\n",
    "from utils.utils import split_info_print, metrics, show_results\n",
    "from utils.scheduler import load_scheduler\n",
    "from models.get_model import get_model\n",
    "from train import train, test"
   ]
  },
  {
   "cell_type": "code",
   "execution_count": 2,
   "id": "30148a97-d020-4636-aa1f-8c9992992e38",
   "metadata": {},
   "outputs": [],
   "source": [
    "import torch.optim as optim\n",
    "from torchsummary import summary\n",
    "from fvcore.nn import FlopCountAnalysis, parameter_count\n",
    "import time"
   ]
  },
  {
   "cell_type": "code",
   "execution_count": 3,
   "id": "0d0c0d95-ed7a-490b-b122-9d8f70ba716b",
   "metadata": {
    "scrolled": true
   },
   "outputs": [
    {
     "name": "stdout",
     "output_type": "stream",
     "text": [
      "experiments will run on GPU device 0\n",
      "model = cnn3d\n",
      "dataset = hsn\n",
      "dataset folder = ./datasets\n",
      "patch size = 12\n",
      "batch size = 32\n",
      "total epoch = 50\n",
      "0.05 for training, 0.05 for validation and 0.9 for testing\n",
      "running an experiment with the cnn3d model\n",
      "run 1 / 1\n",
      "CNN3D(\n",
      "  (conv1): Conv3d(1, 20, kernel_size=(3, 3, 3), stride=(1, 1, 1))\n",
      "  (pool1): Conv3d(20, 20, kernel_size=(3, 1, 1), stride=(2, 1, 1), padding=(1, 0, 0))\n",
      "  (conv2): Conv3d(20, 35, kernel_size=(3, 3, 3), stride=(1, 1, 1), padding=(1, 0, 0))\n",
      "  (pool2): Conv3d(35, 35, kernel_size=(3, 1, 1), stride=(2, 1, 1), padding=(1, 0, 0))\n",
      "  (conv3): Conv3d(35, 35, kernel_size=(3, 1, 1), stride=(1, 1, 1), padding=(1, 0, 0))\n",
      "  (conv4): Conv3d(35, 35, kernel_size=(2, 1, 1), stride=(2, 1, 1), padding=(1, 0, 0))\n",
      "  (dropout): Dropout(p=0.5, inplace=False)\n",
      "  (fc): Linear(in_features=42560, out_features=15, bias=True)\n",
      ")\n",
      "class train val test\n",
      "Healthy grass 63 62 1126\n",
      "Stressed grass 63 62 1129\n",
      "Synthetic grass 35 35 627\n",
      "Trees 62 62 1120\n",
      "Soil 62 62 1118\n",
      "Water 16 17 292\n",
      "Residential 63 64 1141\n",
      "Commercial 62 62 1120\n",
      "Road 63 62 1127\n",
      "Highway 61 62 1104\n",
      "Railway 62 61 1112\n",
      "Parking Lot 1 61 62 1110\n",
      "Parking Lot 2 24 23 422\n",
      "Tennis Court 21 22 385\n",
      "Running Track 33 33 594\n",
      "network information:\n",
      "----------------------------------------------------------------\n",
      "        Layer (type)               Output Shape         Param #\n",
      "================================================================\n",
      "            Conv3d-1      [-1, 20, 142, 10, 10]             560\n",
      "            Conv3d-2       [-1, 20, 71, 10, 10]           1,220\n",
      "            Conv3d-3         [-1, 35, 71, 8, 8]          18,935\n",
      "            Conv3d-4         [-1, 35, 36, 8, 8]           3,710\n",
      "            Conv3d-5         [-1, 35, 36, 8, 8]           3,710\n",
      "            Conv3d-6         [-1, 35, 19, 8, 8]           2,485\n",
      "           Dropout-7                [-1, 42560]               0\n",
      "            Linear-8                   [-1, 15]         638,415\n",
      "================================================================\n",
      "Total params: 669,035\n",
      "Trainable params: 669,035\n",
      "Non-trainable params: 0\n",
      "----------------------------------------------------------------\n",
      "Input size (MB): 0.08\n",
      "Forward/backward pass size (MB): 6.34\n",
      "Params size (MB): 2.55\n",
      "Estimated Total Size (MB): 8.97\n",
      "----------------------------------------------------------------\n"
     ]
    },
    {
     "name": "stderr",
     "output_type": "stream",
     "text": [
      "training the network:   0%|                              | 0/50 [00:01<?, ?it/s]"
     ]
    },
    {
     "name": "stdout",
     "output_type": "stream",
     "text": [
      "train at epoch 1/50, loss=2.417992\n"
     ]
    },
    {
     "name": "stderr",
     "output_type": "stream",
     "text": [
      "training the network:   2%|▍                     | 1/50 [00:01<01:22,  1.67s/it]"
     ]
    },
    {
     "name": "stdout",
     "output_type": "stream",
     "text": [
      "epoch = 1: best validation OA = 0.3968\n"
     ]
    },
    {
     "name": "stderr",
     "output_type": "stream",
     "text": [
      "training the network:   4%|▉                     | 2/50 [00:03<01:15,  1.58s/it]"
     ]
    },
    {
     "name": "stdout",
     "output_type": "stream",
     "text": [
      "epoch = 2: best validation OA = 0.4687\n"
     ]
    },
    {
     "name": "stderr",
     "output_type": "stream",
     "text": [
      "training the network:   6%|█▎                    | 3/50 [00:04<01:12,  1.55s/it]"
     ]
    },
    {
     "name": "stdout",
     "output_type": "stream",
     "text": [
      "epoch = 3: best validation OA = 0.4780\n"
     ]
    },
    {
     "name": "stderr",
     "output_type": "stream",
     "text": [
      "training the network:   8%|█▊                    | 4/50 [00:06<01:10,  1.53s/it]"
     ]
    },
    {
     "name": "stdout",
     "output_type": "stream",
     "text": [
      "epoch = 4: best validation OA = 0.5766\n"
     ]
    },
    {
     "name": "stderr",
     "output_type": "stream",
     "text": [
      "training the network:  10%|██▏                   | 5/50 [00:07<01:08,  1.53s/it]"
     ]
    },
    {
     "name": "stdout",
     "output_type": "stream",
     "text": [
      "epoch = 5: best validation OA = 0.6831\n"
     ]
    },
    {
     "name": "stderr",
     "output_type": "stream",
     "text": [
      "training the network:  12%|██▋                   | 6/50 [00:09<01:06,  1.52s/it]"
     ]
    },
    {
     "name": "stdout",
     "output_type": "stream",
     "text": [
      "epoch = 6: best validation OA = 0.7403\n"
     ]
    },
    {
     "name": "stderr",
     "output_type": "stream",
     "text": [
      "training the network:  18%|███▉                  | 9/50 [00:13<01:02,  1.53s/it]"
     ]
    },
    {
     "name": "stdout",
     "output_type": "stream",
     "text": [
      "epoch = 9: best validation OA = 0.7683\n"
     ]
    },
    {
     "name": "stderr",
     "output_type": "stream",
     "text": [
      "training the network:  18%|███▉                  | 9/50 [00:15<01:02,  1.53s/it]"
     ]
    },
    {
     "name": "stdout",
     "output_type": "stream",
     "text": [
      "train at epoch 10/50, loss=0.808479\n"
     ]
    },
    {
     "name": "stderr",
     "output_type": "stream",
     "text": [
      "training the network:  20%|████▏                | 10/50 [00:15<01:02,  1.57s/it]"
     ]
    },
    {
     "name": "stdout",
     "output_type": "stream",
     "text": [
      "epoch = 10: best validation OA = 0.7790\n"
     ]
    },
    {
     "name": "stderr",
     "output_type": "stream",
     "text": [
      "training the network:  22%|████▌                | 11/50 [00:17<01:02,  1.60s/it]"
     ]
    },
    {
     "name": "stdout",
     "output_type": "stream",
     "text": [
      "epoch = 11: best validation OA = 0.7883\n"
     ]
    },
    {
     "name": "stderr",
     "output_type": "stream",
     "text": [
      "training the network:  26%|█████▍               | 13/50 [00:20<01:03,  1.70s/it]"
     ]
    },
    {
     "name": "stdout",
     "output_type": "stream",
     "text": [
      "epoch = 13: best validation OA = 0.8415\n"
     ]
    },
    {
     "name": "stderr",
     "output_type": "stream",
     "text": [
      "training the network:  30%|██████▎              | 15/50 [00:24<01:02,  1.78s/it]"
     ]
    },
    {
     "name": "stdout",
     "output_type": "stream",
     "text": [
      "epoch = 15: best validation OA = 0.8535\n"
     ]
    },
    {
     "name": "stderr",
     "output_type": "stream",
     "text": [
      "training the network:  38%|███████▉             | 19/50 [00:31<00:56,  1.84s/it]"
     ]
    },
    {
     "name": "stdout",
     "output_type": "stream",
     "text": [
      "epoch = 19: best validation OA = 0.8615\n"
     ]
    },
    {
     "name": "stderr",
     "output_type": "stream",
     "text": [
      "training the network:  38%|███████▉             | 19/50 [00:33<00:56,  1.84s/it]"
     ]
    },
    {
     "name": "stdout",
     "output_type": "stream",
     "text": [
      "train at epoch 20/50, loss=0.546931\n"
     ]
    },
    {
     "name": "stderr",
     "output_type": "stream",
     "text": [
      "training the network:  42%|████████▊            | 21/50 [00:35<00:53,  1.85s/it]"
     ]
    },
    {
     "name": "stdout",
     "output_type": "stream",
     "text": [
      "epoch = 21: best validation OA = 0.8655\n"
     ]
    },
    {
     "name": "stderr",
     "output_type": "stream",
     "text": [
      "training the network:  50%|██████████▌          | 25/50 [00:43<00:46,  1.86s/it]"
     ]
    },
    {
     "name": "stdout",
     "output_type": "stream",
     "text": [
      "epoch = 25: best validation OA = 0.8802\n"
     ]
    },
    {
     "name": "stderr",
     "output_type": "stream",
     "text": [
      "training the network:  52%|██████████▉          | 26/50 [00:44<00:44,  1.86s/it]"
     ]
    },
    {
     "name": "stdout",
     "output_type": "stream",
     "text": [
      "epoch = 26: best validation OA = 0.9108\n"
     ]
    },
    {
     "name": "stderr",
     "output_type": "stream",
     "text": [
      "training the network:  58%|████████████▏        | 29/50 [00:51<00:38,  1.85s/it]"
     ]
    },
    {
     "name": "stdout",
     "output_type": "stream",
     "text": [
      "train at epoch 30/50, loss=0.450068\n"
     ]
    },
    {
     "name": "stderr",
     "output_type": "stream",
     "text": [
      "training the network:  78%|████████████████▍    | 39/50 [01:10<00:20,  1.86s/it]"
     ]
    },
    {
     "name": "stdout",
     "output_type": "stream",
     "text": [
      "train at epoch 40/50, loss=0.364301\n"
     ]
    },
    {
     "name": "stderr",
     "output_type": "stream",
     "text": [
      "training the network:  88%|██████████████████▍  | 44/50 [01:18<00:11,  1.87s/it]"
     ]
    },
    {
     "name": "stdout",
     "output_type": "stream",
     "text": [
      "epoch = 44: best validation OA = 0.9281\n"
     ]
    },
    {
     "name": "stderr",
     "output_type": "stream",
     "text": [
      "training the network:  98%|████████████████████▌| 49/50 [01:29<00:01,  1.85s/it]"
     ]
    },
    {
     "name": "stdout",
     "output_type": "stream",
     "text": [
      "train at epoch 50/50, loss=0.301371\n"
     ]
    },
    {
     "name": "stderr",
     "output_type": "stream",
     "text": [
      "training the network: 100%|█████████████████████| 50/50 [01:29<00:00,  1.79s/it]\n",
      "inference on the HSI: 20847it [05:08, 67.49it/s]                                \n"
     ]
    },
    {
     "name": "stdout",
     "output_type": "stream",
     "text": [
      "Confusion matrix :\n",
      "[[1094    0    0   32    0    0    0    0    0    0    0    0    0    0\n",
      "     0]\n",
      " [  22 1104    0    3    0    0    0    0    0    0    0    0    0    0\n",
      "     0]\n",
      " [   0    0  623    0    0    0    0    0    0    0    0    0    0    0\n",
      "     4]\n",
      " [   1    3    0 1116    0    0    0    0    0    0    0    0    0    0\n",
      "     0]\n",
      " [   0    0    0    0 1109    0    0    0    0    0    1    8    0    0\n",
      "     0]\n",
      " [   4    0    0    0    0  248   25    0    0    7    8    0    0    0\n",
      "     0]\n",
      " [   0    3    4    0    0    5 1019   78   15    0   17    0    0    0\n",
      "     0]\n",
      " [   0    0    0    0    9    0   21  954    2   13   14   98    1    0\n",
      "     8]\n",
      " [   0    8    0    0    0    2   10   43  985   12   28   39    0    0\n",
      "     0]\n",
      " [   0    0    0    0    0    0    0   21   11  909   65   98    0    0\n",
      "     0]\n",
      " [   0    2    2    0    0    0   25   13   33   24  974   23   13    3\n",
      "     0]\n",
      " [   0    0    1    0    0    0   11    2    5    0    9 1082    0    0\n",
      "     0]\n",
      " [   0    0    0    0    0    0    0    1    0   21    2   14  384    0\n",
      "     0]\n",
      " [   0    1    0    0    0    0    4    0    0    0    2    0   12  366\n",
      "     0]\n",
      " [   0    0    0    0    0    0    0    0    0    0    0    0    0    0\n",
      "   594]]---\n",
      "Accuracy : 92.86%\n",
      "---\n",
      "class acc :\n",
      "\tHealthy grass: 97.16\n",
      "\tStressed grass: 97.79\n",
      "\tSynthetic grass: 99.36\n",
      "\tTrees: 99.64\n",
      "\tSoil: 99.19\n",
      "\tWater: 84.93\n",
      "\tResidential: 89.31\n",
      "\tCommercial: 85.18\n",
      "\tRoad: 87.40\n",
      "\tHighway: 82.34\n",
      "\tRailway: 87.59\n",
      "\tParking Lot 1: 97.48\n",
      "\tParking Lot 2: 91.00\n",
      "\tTennis Court: 95.06\n",
      "\tRunning Track: 100.00\n",
      "---\n",
      "AA: 92.90%\n",
      "Kappa: 92.28\n",
      "\n",
      "FLOPs: 122621600\n",
      "Parameters: 669035\n",
      "Training time: 89.46 seconds\n",
      "Testing time: 309.16seconds\n"
     ]
    }
   ],
   "source": [
    "if __name__ == \"__main__\":\n",
    "    parser = argparse.ArgumentParser(description=\"run patch-based HSI classification\")\n",
    "    parser.add_argument(\"--model\", type=str, default='cnn3d')\n",
    "    parser.add_argument(\"--dataset_name\", type=str, default=\"hsn\")\n",
    "    parser.add_argument(\"--dataset_dir\", type=str, default=\"./datasets\")\n",
    "    parser.add_argument(\"--device\", type=str, default=\"0\")\n",
    "    parser.add_argument(\"--patch_size\", type=int, default=12)\n",
    "    parser.add_argument(\"--num_run\", type=int, default=1)\n",
    "    parser.add_argument(\"--epoch\", type=int, default=50)\n",
    "    parser.add_argument(\"--bs\", type=int, default=32)\n",
    "    parser.add_argument(\"--ratio\", type=float, default=0.1)\n",
    "\n",
    "    args, unknown = parser.parse_known_args()\n",
    "    device = torch.device(\"cuda:{}\".format(args.device) if torch.cuda.is_available() else \"cpu\")\n",
    "\n",
    "    # Print parameters\n",
    "    print(f\"experiments will run on GPU device {args.device}\")\n",
    "    print(f\"model = {args.model}\")\n",
    "    print(f\"dataset = {args.dataset_name}\")\n",
    "    print(f\"dataset folder = {args.dataset_dir}\")\n",
    "    print(f\"patch size = {args.patch_size}\")\n",
    "    print(f\"batch size = {args.bs}\")\n",
    "    print(f\"total epoch = {args.epoch}\")\n",
    "    print(f\"{args.ratio / 2} for training, {args.ratio / 2} for validation and {1 - args.ratio} for testing\")\n",
    "\n",
    "    # Load data\n",
    "    image, gt, labels = load_mat_hsi(args.dataset_name, args.dataset_dir)\n",
    "    num_classes = len(labels)\n",
    "    num_bands = image.shape[-1]\n",
    "\n",
    "    # Random seeds\n",
    "    seeds = [202201, 202202, 202203, 202204, 202205]\n",
    "\n",
    "    # Empty list to store results\n",
    "    results = []\n",
    "\n",
    "    for run in range(args.num_run):\n",
    "        np.random.seed(seeds[run])\n",
    "        print(f\"running an experiment with the {args.model} model\")\n",
    "        print(f\"run {run + 1} / {args.num_run}\")\n",
    "\n",
    "        trainval_gt, test_gt = sample_gt(gt, args.ratio, seeds[run])\n",
    "        train_gt, val_gt = sample_gt(trainval_gt, 0.5, seeds[run])\n",
    "\n",
    "        del trainval_gt\n",
    "\n",
    "        train_set = HSIDataset(image, train_gt, patch_size=args.patch_size, data_aug=True)\n",
    "        val_set = HSIDataset(image, val_gt, patch_size=args.patch_size, data_aug=False)\n",
    "        train_loader = torch.utils.data.DataLoader(train_set, batch_size=args.bs, drop_last=False, shuffle=True)\n",
    "        val_loader = torch.utils.data.DataLoader(val_set, batch_size=args.bs, drop_last=False, shuffle=False)\n",
    "\n",
    "        model = get_model(args.model, args.dataset_name, args.patch_size).to(device)\n",
    "        print(model)\n",
    "\n",
    "        if run == 0:\n",
    "            split_info_print(train_gt, val_gt, test_gt, labels)\n",
    "            print(\"network information:\")\n",
    "            # Summary of the model\n",
    "            summary(model, input_size=(1, num_bands, args.patch_size, args.patch_size))\n",
    "\n",
    "        optimizer, scheduler = load_scheduler(args.model, model)\n",
    "        criterion = nn.CrossEntropyLoss()\n",
    "\n",
    "        # Where to save checkpoint model\n",
    "        model_dir = f\"./checkpoints/{args.model}/{args.dataset_name}/{run}\"\n",
    "\n",
    "        # Training\n",
    "        start_time = time.time()\n",
    "        try:\n",
    "            train(model, optimizer, criterion, train_loader, val_loader, args.epoch, model_dir, device, scheduler)\n",
    "        except KeyboardInterrupt:\n",
    "            print('\"ctrl+c\" is pressed, the training is over')\n",
    "        training_time = time.time() - start_time\n",
    "\n",
    "        # Testing\n",
    "        start_time = time.time()\n",
    "        probabilities = test(model, model_dir, image, args.patch_size, num_classes, device)\n",
    "        testing_time = time.time() - start_time\n",
    "\n",
    "        prediction = np.argmax(probabilities, axis=-1)\n",
    "        run_results = metrics(prediction, test_gt, n_classes=num_classes)\n",
    "        results.append(run_results)\n",
    "        show_results(run_results, label_values=labels)\n",
    "\n",
    "        del train_set, train_loader, val_set, val_loader\n",
    "\n",
    "        # Calculate FLOPs and number of parameters\n",
    "        dummy_input = torch.randn(1, 1, num_bands, args.patch_size, args.patch_size).to(device)\n",
    "        flops = FlopCountAnalysis(model, dummy_input)\n",
    "        params = parameter_count(model)\n",
    "\n",
    "        print(f\"FLOPs: {flops.total()}\")\n",
    "        print(f\"Parameters: {params['']}\")\n",
    "        print(f\"Training time: {training_time:.2f} seconds\")\n",
    "        print(f\"Testing time: {testing_time:.2f}seconds\")\n",
    "\n",
    "        # Store additional metrics in results\n",
    "        run_results[\"FLOPs\"] = flops.total()\n",
    "        run_results[\"Parameters\"] = params['']\n",
    "        run_results[\"Training time\"] = training_time\n",
    "        run_results[\"Testing time\"] = testing_time\n",
    "\n",
    "    if args.num_run > 1:\n",
    "        show_results(results, label_values=labels, aggregated=True)"
   ]
  },
  {
   "cell_type": "code",
   "execution_count": null,
   "id": "8b762748-a37b-4870-8778-88d9b5b66d6e",
   "metadata": {},
   "outputs": [],
   "source": [
    "    "
   ]
  },
  {
   "cell_type": "code",
   "execution_count": null,
   "id": "eb6c2bbd-34f2-44e3-a94b-19cf1187c81d",
   "metadata": {},
   "outputs": [],
   "source": []
  }
 ],
 "metadata": {
  "kernelspec": {
   "display_name": "Python 3 (ipykernel)",
   "language": "python",
   "name": "python3"
  },
  "language_info": {
   "codemirror_mode": {
    "name": "ipython",
    "version": 3
   },
   "file_extension": ".py",
   "mimetype": "text/x-python",
   "name": "python",
   "nbconvert_exporter": "python",
   "pygments_lexer": "ipython3",
   "version": "3.11.5"
  }
 },
 "nbformat": 4,
 "nbformat_minor": 5
}
